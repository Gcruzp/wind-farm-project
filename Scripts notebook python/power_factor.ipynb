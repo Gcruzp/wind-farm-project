{
  "nbformat": 4,
  "nbformat_minor": 0,
  "metadata": {
    "colab": {
      "provenance": []
    },
    "kernelspec": {
      "name": "python3",
      "display_name": "Python 3"
    },
    "language_info": {
      "name": "python"
    }
  },
  "cells": [
    {
      "cell_type": "code",
      "execution_count": null,
      "metadata": {
        "id": "Ie3Jftw4EZLx"
      },
      "outputs": [],
      "source": [
        "!pip install boto3"
      ]
    },
    {
      "cell_type": "code",
      "source": [
        "import boto3\n",
        "import json\n",
        "import time\n",
        "from random import uniform\n",
        "from datetime import datetime\n",
        "\n",
        "cliente = boto3.client('kinesis', aws_access_key_id='', aws_secret_access_key='',\n",
        "                       region_name='sa-east-1')\n",
        "\n",
        "id = 0\n",
        "while True:\n",
        "  dados = uniform(0.7,1)\n",
        "  id += 1;\n",
        "  register = {'idtemp' : str(id), 'data' : str(dados), 'type' : 'powerfactor', 'timestamp' : str(datetime.now())}\n",
        "  cliente.put_record(StreamName='windfarm', Data= json.dumps(register), PartitionKey='02')\n",
        "  time.sleep(10)"
      ],
      "metadata": {
        "id": "Cf2t0ASpEo2K"
      },
      "execution_count": null,
      "outputs": []
    }
  ]
}